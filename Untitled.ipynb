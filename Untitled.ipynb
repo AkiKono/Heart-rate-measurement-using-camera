{
 "cells": [
  {
   "cell_type": "code",
   "execution_count": 1,
   "metadata": {},
   "outputs": [],
   "source": [
    "import numpy as np\n",
    "import cv2"
   ]
  },
  {
   "cell_type": "code",
   "execution_count": null,
   "metadata": {},
   "outputs": [],
   "source": [
    "A = np.arange(100).reshape(10,10)\n"
   ]
  },
  {
   "cell_type": "code",
   "execution_count": null,
   "metadata": {},
   "outputs": [],
   "source": [
    "A.shape"
   ]
  },
  {
   "cell_type": "code",
   "execution_count": null,
   "metadata": {},
   "outputs": [],
   "source": [
    "np.random.choice(A.reshape(-1),10, replace=False)"
   ]
  },
  {
   "cell_type": "code",
   "execution_count": null,
   "metadata": {},
   "outputs": [],
   "source": [
    "np.random.shuffle(A)"
   ]
  },
  {
   "cell_type": "code",
   "execution_count": null,
   "metadata": {},
   "outputs": [],
   "source": [
    "np.average(A.reshape(-1))"
   ]
  },
  {
   "cell_type": "code",
   "execution_count": null,
   "metadata": {},
   "outputs": [],
   "source": [
    "img = cv2.imread(\"ed.jpg\")"
   ]
  },
  {
   "cell_type": "code",
   "execution_count": null,
   "metadata": {},
   "outputs": [],
   "source": [
    "import dlib\n",
    "\n",
    "detector = dlib.get_frontal_face_detector()\n",
    "\n",
    "gray = cv2.cvtColor(img, cv2.COLOR_BGR2GRAY)\n",
    "rects = detector(img, 0)"
   ]
  },
  {
   "cell_type": "code",
   "execution_count": null,
   "metadata": {},
   "outputs": [],
   "source": [
    "print(rects)\n",
    "print(rects[0].left())\n",
    "print(rects[0].right())\n",
    "print(rects[0].top())\n",
    "print(rects[0].bottom())"
   ]
  },
  {
   "cell_type": "code",
   "execution_count": null,
   "metadata": {},
   "outputs": [],
   "source": [
    "len(rects)"
   ]
  },
  {
   "cell_type": "code",
   "execution_count": null,
   "metadata": {},
   "outputs": [],
   "source": [
    "rect = rects[0]\n",
    "\n",
    "x = rect.left()\n",
    "y = rect.top()\n",
    "w = rect.right() - x\n",
    "h = rect.bottom() - y\n"
   ]
  },
  {
   "cell_type": "code",
   "execution_count": null,
   "metadata": {},
   "outputs": [],
   "source": [
    "model_path = \"/home/hank2/workspace/Heart-rate-measurement-using-camera/shape_predictor_68_face_landmarks.dat\"\n",
    "predictor = dlib.shape_predictor(model_path)"
   ]
  },
  {
   "cell_type": "code",
   "execution_count": null,
   "metadata": {},
   "outputs": [],
   "source": [
    "print(type(shape))"
   ]
  },
  {
   "cell_type": "code",
   "execution_count": null,
   "metadata": {},
   "outputs": [],
   "source": [
    "shape.rect"
   ]
  },
  {
   "cell_type": "code",
   "execution_count": null,
   "metadata": {},
   "outputs": [],
   "source": [
    "gray.shape"
   ]
  },
  {
   "cell_type": "code",
   "execution_count": null,
   "metadata": {},
   "outputs": [],
   "source": [
    "face = img[y:y+h, x:x+w]"
   ]
  },
  {
   "cell_type": "code",
   "execution_count": null,
   "metadata": {},
   "outputs": [],
   "source": [
    "shape = predictor(face, dlib.rectangle(0,0,w,h))"
   ]
  },
  {
   "cell_type": "code",
   "execution_count": null,
   "metadata": {},
   "outputs": [],
   "source": [
    "np_shape = []\n",
    "for i in range(shape.num_parts):\n",
    "    x = shape.part(i).x\n",
    "    y = shape.part(i).y\n",
    "    np_shape.append([x,y])"
   ]
  },
  {
   "cell_type": "code",
   "execution_count": null,
   "metadata": {},
   "outputs": [],
   "source": [
    "for (x, y) in np_shape:\n",
    "    cv2.circle(face, (x, y), 1, (0, 0, 255), -1)"
   ]
  },
  {
   "cell_type": "code",
   "execution_count": null,
   "metadata": {},
   "outputs": [],
   "source": [
    "shape.num_parts"
   ]
  },
  {
   "cell_type": "code",
   "execution_count": 12,
   "metadata": {},
   "outputs": [],
   "source": [
    "from matplotlib import pyplot as plt\n",
    "%matplotlib inline\n",
    "\n"
   ]
  },
  {
   "cell_type": "code",
   "execution_count": null,
   "metadata": {},
   "outputs": [],
   "source": [
    "plt.imshow(face)\n",
    "plt.title('my picture')\n",
    "plt.show()"
   ]
  },
  {
   "cell_type": "code",
   "execution_count": null,
   "metadata": {},
   "outputs": [],
   "source": []
  },
  {
   "cell_type": "code",
   "execution_count": 2,
   "metadata": {},
   "outputs": [],
   "source": [
    "import pyedflib"
   ]
  },
  {
   "cell_type": "code",
   "execution_count": 129,
   "metadata": {},
   "outputs": [
    {
     "ename": "OSError",
     "evalue": "file has already been opened",
     "output_type": "error",
     "traceback": [
      "\u001b[0;31m---------------------------------------------------------------------------\u001b[0m",
      "\u001b[0;31mOSError\u001b[0m                                   Traceback (most recent call last)",
      "\u001b[0;32m<ipython-input-129-488dc7c9e0be>\u001b[0m in \u001b[0;36m<module>\u001b[0;34m\u001b[0m\n\u001b[0;32m----> 1\u001b[0;31m \u001b[0mf\u001b[0m \u001b[0;34m=\u001b[0m \u001b[0mpyedflib\u001b[0m\u001b[0;34m.\u001b[0m\u001b[0mEdfReader\u001b[0m\u001b[0;34m(\u001b[0m\u001b[0;34m\"hci-tagging-database_download_2019-09-16_04_49_25/Sessions/784/Part_7_S_Trial2_emotion.bdf\"\u001b[0m\u001b[0;34m)\u001b[0m\u001b[0;34m\u001b[0m\u001b[0;34m\u001b[0m\u001b[0m\n\u001b[0m\u001b[1;32m      2\u001b[0m \u001b[0;34m\u001b[0m\u001b[0m\n\u001b[1;32m      3\u001b[0m \u001b[0mn\u001b[0m \u001b[0;34m=\u001b[0m \u001b[0mf\u001b[0m\u001b[0;34m.\u001b[0m\u001b[0msignals_in_file\u001b[0m\u001b[0;34m\u001b[0m\u001b[0;34m\u001b[0m\u001b[0m\n\u001b[1;32m      4\u001b[0m \u001b[0msignal_labels\u001b[0m \u001b[0;34m=\u001b[0m \u001b[0mf\u001b[0m\u001b[0;34m.\u001b[0m\u001b[0mgetSignalLabels\u001b[0m\u001b[0;34m(\u001b[0m\u001b[0;34m)\u001b[0m\u001b[0;34m\u001b[0m\u001b[0;34m\u001b[0m\u001b[0m\n\u001b[1;32m      5\u001b[0m \u001b[0msigbufs\u001b[0m \u001b[0;34m=\u001b[0m \u001b[0mnp\u001b[0m\u001b[0;34m.\u001b[0m\u001b[0mzeros\u001b[0m\u001b[0;34m(\u001b[0m\u001b[0;34m(\u001b[0m\u001b[0mn\u001b[0m\u001b[0;34m,\u001b[0m \u001b[0mf\u001b[0m\u001b[0;34m.\u001b[0m\u001b[0mgetNSamples\u001b[0m\u001b[0;34m(\u001b[0m\u001b[0;34m)\u001b[0m\u001b[0;34m[\u001b[0m\u001b[0;36m0\u001b[0m\u001b[0;34m]\u001b[0m\u001b[0;34m)\u001b[0m\u001b[0;34m)\u001b[0m\u001b[0;34m\u001b[0m\u001b[0;34m\u001b[0m\u001b[0m\n",
      "\u001b[0;32mpyedflib\\_extensions\\_pyedflib.pyx\u001b[0m in \u001b[0;36mpyedflib._extensions._pyedflib.CyEdfReader.__init__\u001b[0;34m()\u001b[0m\n",
      "\u001b[0;32mpyedflib\\_extensions\\_pyedflib.pyx\u001b[0m in \u001b[0;36mpyedflib._extensions._pyedflib.CyEdfReader.open\u001b[0;34m()\u001b[0m\n",
      "\u001b[0;32mpyedflib\\_extensions\\_pyedflib.pyx\u001b[0m in \u001b[0;36mpyedflib._extensions._pyedflib.CyEdfReader.check_open_ok\u001b[0;34m()\u001b[0m\n",
      "\u001b[0;31mOSError\u001b[0m: file has already been opened"
     ]
    }
   ],
   "source": [
    "f = pyedflib.EdfReader(\"hci-tagging-database_download_2019-09-16_04_49_25/Sessions/784/Part_7_S_Trial2_emotion.bdf\")\n",
    "\n",
    "n = f.signals_in_file\n",
    "signal_labels = f.getSignalLabels()\n",
    "sigbufs = np.zeros((n, f.getNSamples()[0]))\n",
    "for i in np.arange(n):\n",
    "    sigbufs[i, :] = f.readSignal(i)\n"
   ]
  },
  {
   "cell_type": "code",
   "execution_count": 120,
   "metadata": {},
   "outputs": [
    {
     "data": {
      "text/plain": [
       "['Fp1',\n",
       " 'AF3',\n",
       " 'F3',\n",
       " 'F7',\n",
       " 'FC5',\n",
       " 'FC1',\n",
       " 'C3',\n",
       " 'T7',\n",
       " 'CP5',\n",
       " 'CP1',\n",
       " 'P3',\n",
       " 'P7',\n",
       " 'PO3',\n",
       " 'O1',\n",
       " 'Oz',\n",
       " 'Pz',\n",
       " 'Fp2',\n",
       " 'AF4',\n",
       " 'Fz',\n",
       " 'F4',\n",
       " 'F8',\n",
       " 'FC6',\n",
       " 'FC2',\n",
       " 'Cz',\n",
       " 'C4',\n",
       " 'T8',\n",
       " 'CP6',\n",
       " 'CP2',\n",
       " 'P4',\n",
       " 'P8',\n",
       " 'PO4',\n",
       " 'O2',\n",
       " 'EXG1',\n",
       " 'EXG2',\n",
       " 'EXG3',\n",
       " 'EXG4',\n",
       " 'EXG5',\n",
       " 'EXG6',\n",
       " 'EXG7',\n",
       " 'EXG8',\n",
       " 'GSR1',\n",
       " 'GSR2',\n",
       " 'Erg1',\n",
       " 'Erg2',\n",
       " 'Resp',\n",
       " 'Temp',\n",
       " 'Status']"
      ]
     },
     "execution_count": 120,
     "metadata": {},
     "output_type": "execute_result"
    }
   ],
   "source": [
    "signal_labels"
   ]
  },
  {
   "cell_type": "code",
   "execution_count": 70,
   "metadata": {},
   "outputs": [
    {
     "data": {
      "text/plain": [
       "array([256, 256, 256, 256, 256, 256, 256, 256, 256, 256, 256, 256, 256,\n",
       "       256, 256, 256, 256, 256, 256, 256, 256, 256, 256, 256, 256, 256,\n",
       "       256, 256, 256, 256, 256, 256, 256, 256, 256, 256, 256, 256, 256,\n",
       "       256, 256, 256, 256, 256, 256, 256, 256])"
      ]
     },
     "execution_count": 70,
     "metadata": {},
     "output_type": "execute_result"
    }
   ],
   "source": [
    "f.getSampleFrequencies()"
   ]
  },
  {
   "cell_type": "code",
   "execution_count": 74,
   "metadata": {},
   "outputs": [
    {
     "data": {
      "text/plain": [
       "39.0"
      ]
     },
     "execution_count": 74,
     "metadata": {},
     "output_type": "execute_result"
    }
   ],
   "source": [
    "f.getNSamples()[0]/256"
   ]
  },
  {
   "cell_type": "code",
   "execution_count": 4,
   "metadata": {},
   "outputs": [
    {
     "data": {
      "text/plain": [
       "array([[-1.23682115e+04, -1.23665865e+04, -1.23732428e+04, ...,\n",
       "         1.56240473e-02,  1.56240473e-02,  1.56240473e-02],\n",
       "       [ 1.01767156e+04,  1.01687781e+04,  1.01694031e+04, ...,\n",
       "         1.56240473e-02,  1.56240473e-02,  1.56240473e-02],\n",
       "       [ 6.13103555e+03,  6.12956680e+03,  6.13216054e+03, ...,\n",
       "         1.56240473e-02,  1.56240473e-02,  1.56240473e-02],\n",
       "       ...,\n",
       "       [-7.69749671e+04, -7.69509359e+04, -7.69666547e+04, ...,\n",
       "         1.56240473e-02,  1.56240473e-02,  1.56240473e-02],\n",
       "       [ 3.11370946e+01,  3.11370946e+01,  3.11370946e+01, ...,\n",
       "         4.93586093e-04,  4.93586093e-04,  4.93586093e-04],\n",
       "       [-1.11022198e-10, -1.11022198e-10, -1.11022198e-10, ...,\n",
       "        -1.11022198e-10, -1.11022198e-10, -1.11022198e-10]])"
      ]
     },
     "execution_count": 4,
     "metadata": {},
     "output_type": "execute_result"
    }
   ],
   "source": [
    "sigbufs"
   ]
  },
  {
   "cell_type": "code",
   "execution_count": 8,
   "metadata": {},
   "outputs": [
    {
     "data": {
      "text/plain": [
       "(47, 34048)"
      ]
     },
     "execution_count": 8,
     "metadata": {},
     "output_type": "execute_result"
    }
   ],
   "source": [
    "sigbufs.shape"
   ]
  },
  {
   "cell_type": "code",
   "execution_count": 104,
   "metadata": {},
   "outputs": [
    {
     "data": {
      "text/plain": [
       "array([3.14720903e+01, 3.14720903e+01, 3.14720903e+01, ...,\n",
       "       4.93586093e-04, 4.93586093e-04, 4.93586093e-04])"
      ]
     },
     "execution_count": 104,
     "metadata": {},
     "output_type": "execute_result"
    }
   ],
   "source": [
    "sigbufs[-10] - sigbufs[2]"
   ]
  },
  {
   "cell_type": "code",
   "execution_count": 128,
   "metadata": {},
   "outputs": [
    {
     "data": {
      "image/png": "[encoded data removed]",
      "text/plain": [
       "<Figure size 432x288 with 1 Axes>"
      ]
     },
     "metadata": {
      "needs_background": "light"
     },
     "output_type": "display_data"
    }
   ],
   "source": [
    "plt.plot(sigbufs[-3][:-100])\n",
    "plt.show()"
   ]
  },
  {
   "cell_type": "code",
   "execution_count": 1,
   "metadata": {},
   "outputs": [],
   "source": [
    "import mne\n"
   ]
  },
  {
   "cell_type": "code",
   "execution_count": 3,
   "metadata": {},
   "outputs": [
    {
     "name": "stdout",
     "output_type": "stream",
     "text": [
      "Extracting EDF parameters from /home/hank2/workspace/HRV/hci-tagging-database_download_2019-09-16_04_49_25/Sessions/784/Part_7_S_Trial2_emotion.bdf...\n",
      "BDF file detected\n",
      "Setting channel info structure...\n",
      "Creating raw.info structure...\n"
     ]
    }
   ],
   "source": [
    "x = mne.io.read_raw_bdf(\"hci-tagging-database_download_2019-09-16_04_49_25/Sessions/784/Part_7_S_Trial2_emotion.bdf\")"
   ]
  },
  {
   "cell_type": "code",
   "execution_count": 6,
   "metadata": {},
   "outputs": [
    {
     "name": "stdout",
     "output_type": "stream",
     "text": [
      "Converting \"time\" to \"<class 'numpy.int64'>\"...\n"
     ]
    }
   ],
   "source": [
    "df = x.to_data_frame()"
   ]
  },
  {
   "cell_type": "code",
   "execution_count": 10,
   "metadata": {},
   "outputs": [
    {
     "data": {
      "text/html": [
       "<div>\n",
       "<style scoped>\n",
       "    .dataframe tbody tr th:only-of-type {\n",
       "        vertical-align: middle;\n",
       "    }\n",
       "\n",
       "    .dataframe tbody tr th {\n",
       "        vertical-align: top;\n",
       "    }\n",
       "\n",
       "    .dataframe thead th {\n",
       "        text-align: right;\n",
       "    }\n",
       "</style>\n",
       "<table border=\"1\" class=\"dataframe\">\n",
       "  <thead>\n",
       "    <tr style=\"text-align: right;\">\n",
       "      <th>channel</th>\n",
       "      <th>Fp1</th>\n",
       "      <th>AF3</th>\n",
       "      <th>F3</th>\n",
       "      <th>F7</th>\n",
       "      <th>FC5</th>\n",
       "      <th>FC1</th>\n",
       "      <th>C3</th>\n",
       "      <th>T7</th>\n",
       "      <th>CP5</th>\n",
       "      <th>CP1</th>\n",
       "      <th>...</th>\n",
       "      <th>EXG6</th>\n",
       "      <th>EXG7</th>\n",
       "      <th>EXG8</th>\n",
       "      <th>GSR1</th>\n",
       "      <th>GSR2</th>\n",
       "      <th>Erg1</th>\n",
       "      <th>Erg2</th>\n",
       "      <th>Resp</th>\n",
       "      <th>Temp</th>\n",
       "      <th>Status</th>\n",
       "    </tr>\n",
       "    <tr>\n",
       "      <th>time</th>\n",
       "      <th></th>\n",
       "      <th></th>\n",
       "      <th></th>\n",
       "      <th></th>\n",
       "      <th></th>\n",
       "      <th></th>\n",
       "      <th></th>\n",
       "      <th></th>\n",
       "      <th></th>\n",
       "      <th></th>\n",
       "      <th></th>\n",
       "      <th></th>\n",
       "      <th></th>\n",
       "      <th></th>\n",
       "      <th></th>\n",
       "      <th></th>\n",
       "      <th></th>\n",
       "      <th></th>\n",
       "      <th></th>\n",
       "      <th></th>\n",
       "      <th></th>\n",
       "    </tr>\n",
       "  </thead>\n",
       "  <tbody>\n",
       "    <tr>\n",
       "      <th>0</th>\n",
       "      <td>-12368.211523</td>\n",
       "      <td>10176.715570</td>\n",
       "      <td>6131.035545</td>\n",
       "      <td>-6327.503934</td>\n",
       "      <td>-1807.574786</td>\n",
       "      <td>-119.921654</td>\n",
       "      <td>3508.509141</td>\n",
       "      <td>-7886.844803</td>\n",
       "      <td>10814.120642</td>\n",
       "      <td>8578.749773</td>\n",
       "      <td>...</td>\n",
       "      <td>-259466.379948</td>\n",
       "      <td>-259408.005055</td>\n",
       "      <td>-259463.223703</td>\n",
       "      <td>7.297732e+10</td>\n",
       "      <td>2.421870e+06</td>\n",
       "      <td>-12.468729</td>\n",
       "      <td>25.718701</td>\n",
       "      <td>-76974.967146</td>\n",
       "      <td>3.113709e+07</td>\n",
       "      <td>0.0</td>\n",
       "    </tr>\n",
       "    <tr>\n",
       "      <th>4</th>\n",
       "      <td>-12366.586526</td>\n",
       "      <td>10168.778085</td>\n",
       "      <td>6129.566798</td>\n",
       "      <td>-6328.660182</td>\n",
       "      <td>-1803.543543</td>\n",
       "      <td>-121.890401</td>\n",
       "      <td>3508.790391</td>\n",
       "      <td>-7863.469846</td>\n",
       "      <td>10812.370646</td>\n",
       "      <td>8578.062274</td>\n",
       "      <td>...</td>\n",
       "      <td>-259466.536197</td>\n",
       "      <td>-259407.880056</td>\n",
       "      <td>-259463.536203</td>\n",
       "      <td>7.297147e+10</td>\n",
       "      <td>3.328118e+06</td>\n",
       "      <td>-12.281229</td>\n",
       "      <td>25.656201</td>\n",
       "      <td>-76950.935940</td>\n",
       "      <td>3.113709e+07</td>\n",
       "      <td>0.0</td>\n",
       "    </tr>\n",
       "    <tr>\n",
       "      <th>8</th>\n",
       "      <td>-12373.242763</td>\n",
       "      <td>10169.403084</td>\n",
       "      <td>6132.160543</td>\n",
       "      <td>-6330.410179</td>\n",
       "      <td>-1800.637299</td>\n",
       "      <td>-121.046652</td>\n",
       "      <td>3511.165386</td>\n",
       "      <td>-7866.782340</td>\n",
       "      <td>10814.714391</td>\n",
       "      <td>8579.406021</td>\n",
       "      <td>...</td>\n",
       "      <td>-259466.036198</td>\n",
       "      <td>-259407.661306</td>\n",
       "      <td>-259462.973704</td>\n",
       "      <td>7.297876e+10</td>\n",
       "      <td>2.359370e+06</td>\n",
       "      <td>-12.406229</td>\n",
       "      <td>25.781201</td>\n",
       "      <td>-76966.654661</td>\n",
       "      <td>3.113709e+07</td>\n",
       "      <td>0.0</td>\n",
       "    </tr>\n",
       "    <tr>\n",
       "      <th>12</th>\n",
       "      <td>-12371.617766</td>\n",
       "      <td>10176.340571</td>\n",
       "      <td>6133.785540</td>\n",
       "      <td>-6325.441438</td>\n",
       "      <td>-1802.637295</td>\n",
       "      <td>-119.702905</td>\n",
       "      <td>3512.259134</td>\n",
       "      <td>-7882.282311</td>\n",
       "      <td>10820.558130</td>\n",
       "      <td>8583.343514</td>\n",
       "      <td>...</td>\n",
       "      <td>-259466.161198</td>\n",
       "      <td>-259407.880056</td>\n",
       "      <td>-259462.911204</td>\n",
       "      <td>7.298694e+10</td>\n",
       "      <td>1.921871e+06</td>\n",
       "      <td>-12.656228</td>\n",
       "      <td>25.968700</td>\n",
       "      <td>-76980.248386</td>\n",
       "      <td>3.113709e+07</td>\n",
       "      <td>0.0</td>\n",
       "    </tr>\n",
       "    <tr>\n",
       "      <th>16</th>\n",
       "      <td>-12377.867755</td>\n",
       "      <td>10177.184319</td>\n",
       "      <td>6130.598046</td>\n",
       "      <td>-6318.816450</td>\n",
       "      <td>-1803.856043</td>\n",
       "      <td>-121.234152</td>\n",
       "      <td>3512.134135</td>\n",
       "      <td>-7879.376067</td>\n",
       "      <td>10825.026872</td>\n",
       "      <td>8586.187259</td>\n",
       "      <td>...</td>\n",
       "      <td>-259465.817449</td>\n",
       "      <td>-259407.848806</td>\n",
       "      <td>-259463.379953</td>\n",
       "      <td>7.298732e+10</td>\n",
       "      <td>2.296870e+06</td>\n",
       "      <td>-12.406229</td>\n",
       "      <td>26.031200</td>\n",
       "      <td>-76978.748389</td>\n",
       "      <td>3.113709e+07</td>\n",
       "      <td>0.0</td>\n",
       "    </tr>\n",
       "  </tbody>\n",
       "</table>\n",
       "<p>5 rows × 47 columns</p>\n",
       "</div>"
      ],
      "text/plain": [
       "channel           Fp1           AF3           F3           F7          FC5  \\\n",
       "time                                                                         \n",
       "0       -12368.211523  10176.715570  6131.035545 -6327.503934 -1807.574786   \n",
       "4       -12366.586526  10168.778085  6129.566798 -6328.660182 -1803.543543   \n",
       "8       -12373.242763  10169.403084  6132.160543 -6330.410179 -1800.637299   \n",
       "12      -12371.617766  10176.340571  6133.785540 -6325.441438 -1802.637295   \n",
       "16      -12377.867755  10177.184319  6130.598046 -6318.816450 -1803.856043   \n",
       "\n",
       "channel         FC1           C3           T7           CP5          CP1  ...  \\\n",
       "time                                                                      ...   \n",
       "0       -119.921654  3508.509141 -7886.844803  10814.120642  8578.749773  ...   \n",
       "4       -121.890401  3508.790391 -7863.469846  10812.370646  8578.062274  ...   \n",
       "8       -121.046652  3511.165386 -7866.782340  10814.714391  8579.406021  ...   \n",
       "12      -119.702905  3512.259134 -7882.282311  10820.558130  8583.343514  ...   \n",
       "16      -121.234152  3512.134135 -7879.376067  10825.026872  8586.187259  ...   \n",
       "\n",
       "channel           EXG6           EXG7           EXG8          GSR1  \\\n",
       "time                                                                 \n",
       "0       -259466.379948 -259408.005055 -259463.223703  7.297732e+10   \n",
       "4       -259466.536197 -259407.880056 -259463.536203  7.297147e+10   \n",
       "8       -259466.036198 -259407.661306 -259462.973704  7.297876e+10   \n",
       "12      -259466.161198 -259407.880056 -259462.911204  7.298694e+10   \n",
       "16      -259465.817449 -259407.848806 -259463.379953  7.298732e+10   \n",
       "\n",
       "channel          GSR2       Erg1       Erg2          Resp          Temp  \\\n",
       "time                                                                      \n",
       "0        2.421870e+06 -12.468729  25.718701 -76974.967146  3.113709e+07   \n",
       "4        3.328118e+06 -12.281229  25.656201 -76950.935940  3.113709e+07   \n",
       "8        2.359370e+06 -12.406229  25.781201 -76966.654661  3.113709e+07   \n",
       "12       1.921871e+06 -12.656228  25.968700 -76980.248386  3.113709e+07   \n",
       "16       2.296870e+06 -12.406229  26.031200 -76978.748389  3.113709e+07   \n",
       "\n",
       "channel  Status  \n",
       "time             \n",
       "0           0.0  \n",
       "4           0.0  \n",
       "8           0.0  \n",
       "12          0.0  \n",
       "16          0.0  \n",
       "\n",
       "[5 rows x 47 columns]"
      ]
     },
     "execution_count": 10,
     "metadata": {},
     "output_type": "execute_result"
    }
   ],
   "source": [
    "df.head()"
   ]
  },
  {
   "cell_type": "code",
   "execution_count": 13,
   "metadata": {},
   "outputs": [
    {
     "data": {
      "image/png": "[encoded data removed]",
      "text/plain": [
       "<Figure size 432x288 with 4 Axes>"
      ]
     },
     "metadata": {},
     "output_type": "display_data"
    },
    {
     "name": "stderr",
     "output_type": "stream",
     "text": [
      "/home/hank2/anaconda3/envs/kia/lib/python3.6/site-packages/matplotlib/figure.py:445: UserWarning: Matplotlib is currently using module://ipykernel.pylab.backend_inline, which is a non-GUI backend, so cannot show the figure.\n",
      "  % get_backend())\n"
     ]
    }
   ],
   "source": [
    "a = x..plot()\n",
    "a.show()"
   ]
  },
  {
   "cell_type": "code",
   "execution_count": null,
   "metadata": {},
   "outputs": [],
   "source": []
  }
 ],
 "metadata": {
  "kernelspec": {
   "display_name": "Python 3",
   "language": "python",
   "name": "python3"
  },
  "language_info": {
   "codemirror_mode": {
    "name": "ipython",
    "version": 3
   },
   "file_extension": ".py",
   "mimetype": "text/x-python",
   "name": "python",
   "nbconvert_exporter": "python",
   "pygments_lexer": "ipython3",
   "version": "3.6.8"
  }
 },
 "nbformat": 4,
 "nbformat_minor": 2
}
